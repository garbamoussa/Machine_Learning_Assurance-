{
 "cells": [
  {
   "cell_type": "code",
   "execution_count": 1,
   "metadata": {},
   "outputs": [
    {
     "name": "stdout",
     "output_type": "stream",
     "text": [
      "Pixiedust database opened successfully\n"
     ]
    },
    {
     "data": {
      "text/html": [
       "\n",
       "        <div style=\"margin:10px\">\n",
       "            <a href=\"https://github.com/ibm-watson-data-lab/pixiedust\" target=\"_new\">\n",
       "                <img src=\"https://github.com/ibm-watson-data-lab/pixiedust/raw/master/docs/_static/pd_icon32.png\" style=\"float:left;margin-right:10px\"/>\n",
       "            </a>\n",
       "            <span>Pixiedust version 1.1.15</span>\n",
       "        </div>\n",
       "        "
      ],
      "text/plain": [
       "<IPython.core.display.HTML object>"
      ]
     },
     "metadata": {},
     "output_type": "display_data"
    }
   ],
   "source": [
    "import pixiedust"
   ]
  },
  {
   "cell_type": "code",
   "execution_count": 2,
   "metadata": {},
   "outputs": [],
   "source": [
    "import pixiedust"
   ]
  },
  {
   "cell_type": "code",
   "execution_count": 3,
   "metadata": {},
   "outputs": [
    {
     "name": "stdout",
     "output_type": "stream",
     "text": [
      "Connected successfully!!!\n"
     ]
    },
    {
     "data": {
      "text/plain": [
       "MongoClient(host=['localhost:27017'], document_class=dict, tz_aware=False, connect=True)"
      ]
     },
     "execution_count": 3,
     "metadata": {},
     "output_type": "execute_result"
    }
   ],
   "source": [
    "import pymongo\n",
    "\n",
    "# Connection to Mongo DB\n",
    "try:\n",
    "    conn=pymongo.MongoClient()\n",
    "    print (\"Connected successfully!!!\")\n",
    "except pymongo.errors.ConnectionFailure:\n",
    "   print (\"Could not connect to MongoDB: %s\" % e)\n",
    "conn"
   ]
  },
  {
   "cell_type": "code",
   "execution_count": 4,
   "metadata": {},
   "outputs": [
    {
     "data": {
      "text/plain": [
       "Database(MongoClient(host=['localhost:27017'], document_class=dict, tz_aware=False, connect=True), 'mydb')"
      ]
     },
     "execution_count": 4,
     "metadata": {},
     "output_type": "execute_result"
    }
   ],
   "source": [
    "db = conn.mydb\n",
    "db"
   ]
  },
  {
   "cell_type": "code",
   "execution_count": 5,
   "metadata": {},
   "outputs": [
    {
     "name": "stderr",
     "output_type": "stream",
     "text": [
      "/Users/garbamoussa/anaconda3/lib/python3.6/site-packages/ipykernel_launcher.py:1: DeprecationWarning: database_names is deprecated. Use list_database_names instead.\n",
      "  \"\"\"Entry point for launching an IPython kernel.\n"
     ]
    },
    {
     "data": {
      "text/plain": [
       "['admin', 'config', 'local', 'test']"
      ]
     },
     "execution_count": 5,
     "metadata": {},
     "output_type": "execute_result"
    }
   ],
   "source": [
    "conn.database_names()"
   ]
  },
  {
   "cell_type": "code",
   "execution_count": 6,
   "metadata": {},
   "outputs": [
    {
     "name": "stderr",
     "output_type": "stream",
     "text": [
      "/Users/garbamoussa/anaconda3/lib/python3.6/site-packages/ipykernel_launcher.py:1: DeprecationWarning: collection_names is deprecated. Use list_collection_names instead.\n",
      "  \"\"\"Entry point for launching an IPython kernel.\n"
     ]
    },
    {
     "data": {
      "text/plain": [
       "[]"
      ]
     },
     "execution_count": 6,
     "metadata": {},
     "output_type": "execute_result"
    }
   ],
   "source": [
    "db.collection_names()"
   ]
  },
  {
   "cell_type": "code",
   "execution_count": null,
   "metadata": {},
   "outputs": [],
   "source": []
  },
  {
   "cell_type": "code",
   "execution_count": 5,
   "metadata": {},
   "outputs": [],
   "source": [
    "#!pip install pixiedust_node"
   ]
  },
  {
   "cell_type": "code",
   "execution_count": 28,
   "metadata": {},
   "outputs": [
    {
     "name": "stdout",
     "output_type": "stream",
     "text": [
      "Requirement already satisfied: pixiedust in /Users/garbamoussa/anaconda3/lib/python3.6/site-packages (1.1.15)\n",
      "Requirement already satisfied: astunparse in /Users/garbamoussa/anaconda3/lib/python3.6/site-packages (from pixiedust) (1.6.2)\n",
      "Requirement already satisfied: markdown in /Users/garbamoussa/anaconda3/lib/python3.6/site-packages (from pixiedust) (3.0.1)\n",
      "Requirement already satisfied: lxml in /Users/garbamoussa/anaconda3/lib/python3.6/site-packages (from pixiedust) (4.3.0)\n",
      "Requirement already satisfied: geojson in /Users/garbamoussa/anaconda3/lib/python3.6/site-packages (from pixiedust) (2.4.1)\n",
      "Requirement already satisfied: requests in /Users/garbamoussa/anaconda3/lib/python3.6/site-packages (from pixiedust) (2.21.0)\n",
      "Requirement already satisfied: colour in /Users/garbamoussa/anaconda3/lib/python3.6/site-packages (from pixiedust) (0.1.5)\n",
      "Requirement already satisfied: mpld3 in /Users/garbamoussa/anaconda3/lib/python3.6/site-packages (from pixiedust) (0.3)\n",
      "Requirement already satisfied: wheel<1.0,>=0.23.0 in /Users/garbamoussa/anaconda3/lib/python3.6/site-packages (from astunparse->pixiedust) (0.32.3)\n",
      "Requirement already satisfied: six<2.0,>=1.6.1 in /Users/garbamoussa/anaconda3/lib/python3.6/site-packages (from astunparse->pixiedust) (1.12.0)\n",
      "Requirement already satisfied: urllib3<1.25,>=1.21.1 in /Users/garbamoussa/anaconda3/lib/python3.6/site-packages (from requests->pixiedust) (1.24.1)\n",
      "Requirement already satisfied: chardet<3.1.0,>=3.0.2 in /Users/garbamoussa/anaconda3/lib/python3.6/site-packages (from requests->pixiedust) (3.0.4)\n",
      "Requirement already satisfied: idna<2.9,>=2.5 in /Users/garbamoussa/anaconda3/lib/python3.6/site-packages (from requests->pixiedust) (2.8)\n",
      "Requirement already satisfied: certifi>=2017.4.17 in /Users/garbamoussa/anaconda3/lib/python3.6/site-packages (from requests->pixiedust) (2018.11.29)\n"
     ]
    }
   ],
   "source": [
    "!pip install pixiedust"
   ]
  },
  {
   "cell_type": "code",
   "execution_count": 29,
   "metadata": {},
   "outputs": [],
   "source": [
    "import pixiedust"
   ]
  },
  {
   "cell_type": "code",
   "execution_count": 30,
   "metadata": {},
   "outputs": [],
   "source": [
    "import pixiedust_node"
   ]
  },
  {
   "cell_type": "code",
   "execution_count": 31,
   "metadata": {},
   "outputs": [
    {
     "name": "stdout",
     "output_type": "stream",
     "text": [
      "/Users/garbamoussa/anaconda3/bin/npm install -s mongodb\n",
      "+ mongodb@3.1.13\n",
      "updated 1 package and audited 90 packages in 1.186s\n",
      "found 0 vulnerabilities\n"
     ]
    }
   ],
   "source": [
    "##To install any Node.js package from npm, use the following npm.install command with a package name npm.install(\"<library_name>\")  \n",
    "npm.install(\"mongodb\") "
   ]
  },
  {
   "cell_type": "code",
   "execution_count": 32,
   "metadata": {},
   "outputs": [
    {
     "name": "stdout",
     "output_type": "stream",
     "text": [
      "Thrown:\n",
      "SyntaxError: Identifier 'MongoClient' has already been declared\n",
      "Thrown:\n",
      "SyntaxError: Identifier 'connectionString' has already been declared\n",
      "... ... ... Thrown:\n",
      "SyntaxError: Identifier 'options' has already been declared\n",
      "Thrown:\n",
      "SyntaxError: Identifier 'mongodb' has already been declared\n",
      "... ... ... Thrown:\n",
      "Error: URL malformed, cannot be parsed\n",
      "at module.exports (/Users/garbamoussa/node/node_modules/mongodb/lib/url_parser.js:17:21)\n",
      "at deprecated (internal/util.js:71:15)\n",
      "at connect (/Users/garbamoussa/node/node_modules/mongodb/lib/operations/mongo_client_ops.js:188:3)\n",
      "at connectOp (/Users/garbamoussa/node/node_modules/mongodb/lib/operations/mongo_client_ops.js:292:3)\n",
      "at executeOperation (/Users/garbamoussa/node/node_modules/mongodb/lib/utils.js:420:24)\n",
      "at MongoClient.connect (/Users/garbamoussa/node/node_modules/mongodb/lib/mongo_client.js:168:10)\n",
      "at Function.MongoClient.connect (/Users/garbamoussa/node/node_modules/mongodb/lib/mongo_client.js:372:22)\n"
     ]
    }
   ],
   "source": [
    "%%node\n",
    "const MongoClient = require('mongodb').MongoClient;\n",
    "\n",
    "let connectionString = \"mongodb://localhost:27017/test\";\n",
    "\n",
    "let options = {  \n",
    "  ssl: true,\n",
    "  sslValidate: false,\n",
    "};\n",
    "\n",
    "let mongodb;\n",
    "\n",
    "MongoClient.connect(url, options, (err, db) => {  \n",
    "    if (err) throw err;\n",
    "    mongodb = db.db(\"test\")\n",
    "});"
   ]
  },
  {
   "cell_type": "code",
   "execution_count": 22,
   "metadata": {},
   "outputs": [
    {
     "name": "stdout",
     "output_type": "stream",
     "text": [
      "Thrown:\n",
      "SyntaxError: Identifier 'col' has already been declared\n"
     ]
    }
   ],
   "source": [
    "%%node\n",
    "let col = mongodb.collection(\"restaurants\");  "
   ]
  },
  {
   "cell_type": "code",
   "execution_count": 23,
   "metadata": {},
   "outputs": [
    {
     "name": "stdout",
     "output_type": "stream",
     "text": [
      "/Users/garbamoussa/anaconda3/bin/npm install -s mongoose\n",
      "+ mongoose@5.4.13\n",
      "updated 1 package and audited 90 packages in 4.35s\n",
      "found 0 vulnerabilities\n"
     ]
    }
   ],
   "source": [
    "#npm install mongoose\n",
    "npm.install(\"mongoose\") "
   ]
  },
  {
   "cell_type": "code",
   "execution_count": 20,
   "metadata": {},
   "outputs": [
    {
     "ename": "NameError",
     "evalue": "name 'require' is not defined",
     "output_type": "error",
     "traceback": [
      "\u001b[0;31m---------------------------------------------------------------------------\u001b[0m",
      "\u001b[0;31mNameError\u001b[0m                                 Traceback (most recent call last)",
      "\u001b[0;32m<ipython-input-20-9cfd58a66e8e>\u001b[0m in \u001b[0;36m<module>\u001b[0;34m\u001b[0m\n\u001b[0;32m----> 1\u001b[0;31m \u001b[0mmongoose\u001b[0m \u001b[0;34m=\u001b[0m \u001b[0mrequire\u001b[0m\u001b[0;34m(\u001b[0m\u001b[0;34m'mongoose'\u001b[0m\u001b[0;34m)\u001b[0m\u001b[0;34m;\u001b[0m\u001b[0;34m\u001b[0m\u001b[0;34m\u001b[0m\u001b[0m\n\u001b[0m",
      "\u001b[0;31mNameError\u001b[0m: name 'require' is not defined"
     ]
    }
   ],
   "source": []
  },
  {
   "cell_type": "code",
   "execution_count": null,
   "metadata": {},
   "outputs": [],
   "source": []
  }
 ],
 "metadata": {
  "kernelspec": {
   "display_name": "Python 3",
   "language": "python",
   "name": "python3"
  },
  "language_info": {
   "codemirror_mode": {
    "name": "ipython",
    "version": 3
   },
   "file_extension": ".py",
   "mimetype": "text/x-python",
   "name": "python",
   "nbconvert_exporter": "python",
   "pygments_lexer": "ipython3",
   "version": "3.6.6"
  }
 },
 "nbformat": 4,
 "nbformat_minor": 2
}
